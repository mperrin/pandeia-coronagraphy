{
 "cells": [
  {
   "cell_type": "markdown",
   "metadata": {},
   "source": [
    "This notebook demonstrates the covariance matrix approach to contrast calculation with simple, single-reference subtraction."
   ]
  },
  {
   "cell_type": "code",
   "execution_count": null,
   "metadata": {},
   "outputs": [],
   "source": [
    "import matplotlib.pyplot as plt\n",
    "%matplotlib inline\n",
    "from copy import deepcopy\n",
    "import numpy as np\n",
    "\n",
    "from pandeia.engine.calc_utils import build_default_calc\n",
    "\n",
    "import jwst_pancake as pancake"
   ]
  },
  {
   "cell_type": "markdown",
   "metadata": {},
   "source": [
    "# Target and Reference Calculations"
   ]
  },
  {
   "cell_type": "markdown",
   "metadata": {},
   "source": [
    "To compute the contrast from the correlated speckle, shot, and detector noise, we'll need to create multiple realizations of target and reference observations.\n",
    "\n",
    "We begin by defining simple target and reference templates."
   ]
  },
  {
   "cell_type": "code",
   "execution_count": null,
   "metadata": {},
   "outputs": [],
   "source": [
    "# The target is an a5v star with abmag h=5.2\n",
    "config = build_default_calc('jwst', 'nircam', 'coronagraphy')\n",
    "target = config['scene'][0]\n",
    "spec = target['spectrum']\n",
    "spec['sed'] = {'sed_type': 'phoenix', 'key': 'a5v'}\n",
    "spec['normalization'] = {'bandpass': 'johnson,j', 'norm_flux': 5.2, 'norm_fluxunit': \"abmag\", \"type\": 'photsys'}\n",
    "\n",
    "# We adopt a brighter but spectrally-mismatched reference (compared to target 5.2 mag and a5v)\n",
    "refstar = config['strategy']['psf_subtraction_source']\n",
    "refstar['spectrum'] = deepcopy(spec)\n",
    "refstar['spectrum']['normalization']['norm_flux'] = 4.8\n",
    "refstar['spectrum']['sed']['key'] = 'a3v'"
   ]
  },
  {
   "cell_type": "markdown",
   "metadata": {},
   "source": [
    "We iterate over 10 realizations of target acquisition error (both target and reference) and the predicted WFE to build up the statistical sample from which we'll compute the contrast.\n",
    "\n",
    "Here we assume that the WFE is unchanged between target and reference observations. A more complete approach would account for thermally- and dynamically-induced changes in the wavefront between pairs of observations.\n",
    "\n",
    "(Note that this isn't the most efficient loop one could construct. If you want to quickly run this code, set `engine.options.wave_sampling = 3` and `engine.options.on_the_fly_PSFs = False`, or else rewrite to take better advantage of multiprocessing.)"
   ]
  },
  {
   "cell_type": "code",
   "execution_count": null,
   "metadata": {},
   "outputs": [],
   "source": [
    "pancake_options = pancake.engine.options\n",
    "\n",
    "# Store existing configuration\n",
    "pancake_options.save_options()\n",
    "\n",
    "# Set options, and then save them for later use.\n",
    "pancake_options.wave_sampling = 6 # 3\n",
    "pancake_options.on_the_fly_PSFs = True # False\n",
    "otf_config = pancake_options.current_options\n",
    "\n",
    "n_observations = 10 # number of realizations\n",
    "\n",
    "target_slopes = []\n",
    "reference_slopes = []\n",
    "for n in range(n_observations):\n",
    "    print(\"Running observation {} of {}\".format(n+1, n_observations)) # Uncomment to count iterations.\n",
    "    # Add unique target acq error to the target\n",
    "    current_target = deepcopy(config)\n",
    "    pancake.scene.offset_scene(current_target['scene'], *pancake.scene.get_ta_error())\n",
    "    \n",
    "    # Add unique target acq error to the reference\n",
    "    current_reference = [current_target['strategy']['psf_subtraction_source']]\n",
    "    pancake.scene.offset_scene(current_reference, *pancake.scene.get_ta_error())\n",
    "    \n",
    "    # Adopt a new realization of the WFE.\n",
    "    # Note that we're using the same WFE for target and reference here.\n",
    "    # pancake_options.on_the_fly_webbpsf_opd = ('OPD_RevW_ote_for_NIRCam_predicted.fits.gz', n)\n",
    "    \n",
    "    # Calculate target and reference\n",
    "    result = pancake.engine.calculate_all(current_target)\n",
    "    \n",
    "    target_slopes.append(result['target']['2d']['detector'])\n",
    "    reference_slopes.append(result['reference']['2d']['detector'])\n",
    "\n",
    "print(\"Done!\")\n",
    "pancake_options.restore_options()"
   ]
  },
  {
   "cell_type": "markdown",
   "metadata": {},
   "source": [
    "And, finally, we make an observation of an off-axis target for the normalization."
   ]
  },
  {
   "cell_type": "code",
   "execution_count": null,
   "metadata": {},
   "outputs": [],
   "source": [
    "offaxis = deepcopy(config)\n",
    "pancake.scene.offset_scene(offaxis['scene'], 0.5, 0.5) #arsec\n",
    "\n",
    "# Store existing configuration\n",
    "pancake_options.save_options()\n",
    "pancake_options.current_config = otf_config\n",
    "pancake_options.set_saturation(False)\n",
    "\n",
    "offaxis_result = pancake.engine.calculate_target(offaxis)\n",
    "offaxis_slope = offaxis_result['2d']['detector']\n",
    "\n",
    "pancake_options.restore_options()"
   ]
  },
  {
   "cell_type": "markdown",
   "metadata": {},
   "source": [
    "So now we have 10 target observations, 10 corresponding reference observations, and 1 off-axis observation."
   ]
  },
  {
   "cell_type": "code",
   "execution_count": null,
   "metadata": {},
   "outputs": [],
   "source": [
    "fig, axes = plt.subplots(1, 3, figsize = (9, 3))\n",
    "\n",
    "axes[0].imshow(target_slopes[1])\n",
    "axes[0].set_title('1st image in Target Cube')\n",
    "axes[1].imshow(reference_slopes[1])\n",
    "axes[1].set_title('1st image in Reference Cube')\n",
    "axes[2].imshow(offaxis_slope)\n",
    "axes[2].set_title('Off-axis source\\nfor normalization constant')"
   ]
  },
  {
   "cell_type": "markdown",
   "metadata": {},
   "source": [
    "# Contrast Calculation"
   ]
  },
  {
   "cell_type": "markdown",
   "metadata": {},
   "source": [
    "### 1. Align each reference to its corresponding target and subtract"
   ]
  },
  {
   "cell_type": "code",
   "execution_count": null,
   "metadata": {},
   "outputs": [],
   "source": [
    "subtraction_stack = np.zeros((10,) + target_slopes[0].shape)\n",
    "for i, (targ, ref) in enumerate(zip(target_slopes, reference_slopes)):\n",
    "    aligned_ref = pancake.analysis.register_to_target(ref, targ) # Aligned, scaled, mean-centered reference\n",
    "    subtraction_stack[i] = targ - np.nanmean(targ) - aligned_ref # Mean-center target and subtract reference\n",
    "print(subtraction_stack.shape)"
   ]
  },
  {
   "cell_type": "code",
   "execution_count": null,
   "metadata": {},
   "outputs": [],
   "source": [
    "fig, ax = plt.subplots(1, 1, figsize = (3, 3))\n",
    "ax.imshow(subtraction_stack[1])\n",
    "ax.set_title('Single image in reference-subtracted stack')"
   ]
  },
  {
   "cell_type": "markdown",
   "metadata": {},
   "source": [
    "### 2. Compute the covariance matrix from the stack of reference-subtracted targets"
   ]
  },
  {
   "cell_type": "code",
   "execution_count": null,
   "metadata": {},
   "outputs": [],
   "source": [
    "cov_matrix = pancake.analysis.covariance_matrix(subtraction_stack)\n",
    "print(cov_matrix.shape)"
   ]
  },
  {
   "cell_type": "markdown",
   "metadata": {},
   "source": [
    "### 3. Compute the noise map"
   ]
  },
  {
   "cell_type": "markdown",
   "metadata": {},
   "source": [
    "Here, we'll adopt a circular aperture and embed it in an array the size of our slope images. (In theory, this aperture could be of any shape, as long as it's embedded in an array of the right size.)"
   ]
  },
  {
   "cell_type": "code",
   "execution_count": null,
   "metadata": {},
   "outputs": [],
   "source": [
    "from skimage import draw\n",
    "image_dim = subtraction_stack[0].shape\n",
    "radius = 5\n",
    "aperture_image = np.zeros(image_dim)\n",
    "aperture_image[draw.circle((image_dim[0] - 1) // 2, (image_dim[1] - 1) // 2, radius)] = 1\n",
    "\n",
    "fig, ax = plt.subplots(1, 1, figsize=(3, 3))\n",
    "ax.imshow(aperture_image)\n",
    "ax.set_title('Aperture for convolution')"
   ]
  },
  {
   "cell_type": "markdown",
   "metadata": {},
   "source": [
    "From this aperture, we'll compute an \"aperture matrix\", which is really just the flattened aperture centered at each pixel in the image. It's essentially an intermediate step in a convolution, designed here to match the structure of the covariance matrix we've already computed.\n",
    "\n",
    "And from the covariance and aperture matrices, we can create a map of the correlated noise within that aperture seen at each pixel."
   ]
  },
  {
   "cell_type": "code",
   "execution_count": null,
   "metadata": {},
   "outputs": [],
   "source": [
    "aperture_matrix = pancake.analysis.aperture_matrix(aperture_image)\n",
    "noise_map = pancake.analysis.noise_map(cov_matrix, aperture_matrix, image_dim)\n",
    "print(noise_map.shape)"
   ]
  },
  {
   "cell_type": "code",
   "execution_count": null,
   "metadata": {},
   "outputs": [],
   "source": [
    "fig, ax = plt.subplots(1, 1, figsize=(3, 3))\n",
    "ax.imshow(noise_map)\n",
    "ax.set_title('Correlated noise within our aperture\\nat each pixel')"
   ]
  },
  {
   "cell_type": "markdown",
   "metadata": {},
   "source": [
    "### 4. Take the radial profile of the noise map (normalized by off-axis source in same aperture) to get the contrast curve"
   ]
  },
  {
   "cell_type": "markdown",
   "metadata": {},
   "source": [
    "Convolve the off-axis source with the same aperture and take the maximum. This is the normalization constant."
   ]
  },
  {
   "cell_type": "code",
   "execution_count": null,
   "metadata": {},
   "outputs": [],
   "source": [
    "from scipy.ndimage import convolve\n",
    "\n",
    "convolved_offaxis = convolve(offaxis_slope, aperture_image, mode='constant')\n",
    "normalization = convolved_offaxis.max()\n",
    "\n",
    "print('Normalization constant (e-/s): ', normalization)\n",
    "fig, ax = plt.subplots(1, 1, figsize=(3, 3))\n",
    "ax.imshow(convolved_offaxis)\n",
    "ax.set_title('Off-axis source after convolution')"
   ]
  },
  {
   "cell_type": "markdown",
   "metadata": {},
   "source": [
    "Take a radial profile of the noise map, normalize by the constant above, and scale the radial bins by the detector pixelscale."
   ]
  },
  {
   "cell_type": "code",
   "execution_count": null,
   "metadata": {},
   "outputs": [],
   "source": [
    "bins, profile = pancake.analysis.radial_profile(noise_map)\n",
    "\n",
    "fig, ax = plt.subplots(1, 1, figsize=(5, 3))\n",
    "ax.semilogy(bins * 0.031, 5 * profile / normalization)\n",
    "ax.set_xlabel('Separation (arcsec)')\n",
    "ax.set_ylabel('5 sigma Contrast')\n",
    "\n",
    "#mask out any separations < IWA for the NIRCam M210R occulter\n",
    "ax.fill_between([0, 0.4], 1e-7, 1e-3, color = 'k', alpha = 0.3, lw = 0)\n",
    "ax.set_xlim(0,1.9)\n",
    "ax.set_ylim(5e-6,1e-3)"
   ]
  },
  {
   "cell_type": "markdown",
   "metadata": {},
   "source": [
    "# The Easy Way\n",
    "\n",
    "Once you've settled on an aperture and have generated a set of images, you can pretty much jump through steps 2 - 4 above in a single call to `analysis.compute_contrast`."
   ]
  },
  {
   "cell_type": "code",
   "execution_count": null,
   "metadata": {},
   "outputs": [],
   "source": [
    "bins, normalized_profile = pancake.analysis.compute_contrast(subtraction_stack, offaxis_slope, aperture_image)"
   ]
  },
  {
   "cell_type": "code",
   "execution_count": null,
   "metadata": {},
   "outputs": [],
   "source": [
    "fig, ax = plt.subplots(1, 1, figsize=(5, 3))\n",
    "ax.semilogy(bins * 0.031, 5 * normalized_profile)\n",
    "ax.set_xlabel('Separation (arcsec)')\n",
    "ax.set_ylabel('5 sigma Contrast')\n",
    "\n",
    "#mask out any separations < IWA for the NIRCam M210R occulter\n",
    "ax.fill_between([0, 0.4], 1e-7, 1e-3, color = 'k', alpha = 0.3, lw = 0)\n",
    "ax.set_xlim(0,1.9)\n",
    "ax.set_ylim(5e-6,1e-3)"
   ]
  },
  {
   "cell_type": "markdown",
   "metadata": {},
   "source": [
    "# The Even Easier Way\n",
    "\n",
    "Version 1.0 of panCAKE includes a convenience function, ```calculate_contrast_curve```, that performs all of these steps given a configuration file. It allows you to set whether to add TA error to the observations, how many iterations to use, and whether to keep the panCAKE options that you have set, or to allow the program to set its own values for on-the-fly PSF use, wave sampling, and OTE."
   ]
  },
  {
   "cell_type": "code",
   "execution_count": null,
   "metadata": {},
   "outputs": [],
   "source": [
    "contrast_results = pancake.engine.calculate_contrast_curve(config, ta_error=True, iterations=10, keep_options=False)\n",
    "\n",
    "fig, ax = plt.subplots(1, 1, figsize=(5, 3))\n",
    "ax.semilogy(contrast_results['contrast']['bins'] * 0.031, 5 * contrast_results['contrast']['normalized_profile'])\n",
    "ax.set_xlabel('Separation (arcsec)')\n",
    "ax.set_ylabel('5 sigma Contrast')\n",
    "\n",
    "#mask out any separations < IWA for the NIRCam M210R occulter\n",
    "ax.fill_between([0, 0.4], 1e-7, 1e-3, color = 'k', alpha = 0.3, lw = 0)\n",
    "ax.set_xlim(0,1.9)\n",
    "ax.set_ylim(5e-6,1e-3)"
   ]
  }
 ],
 "metadata": {
  "kernelspec": {
   "display_name": "Python (pancake)",
   "language": "python",
   "name": "pancake"
  },
  "language_info": {
   "codemirror_mode": {
    "name": "ipython",
    "version": 3
   },
   "file_extension": ".py",
   "mimetype": "text/x-python",
   "name": "python",
   "nbconvert_exporter": "python",
   "pygments_lexer": "ipython3",
   "version": "3.7.3"
  }
 },
 "nbformat": 4,
 "nbformat_minor": 2
}
