{
 "cells": [
  {
   "cell_type": "markdown",
   "metadata": {},
   "source": [
    "This notebook demonstrates implementing small-grid dithers (SGDs) for NIRCam in Pandeia. By default, the Pandeia engine relies on a library of sparsely-sampled, pre-computed PSFs which are spatially interpolated to produce the PSF at any given point. SGDs are an attempt to introduce PSF diversity by sampling variations that arise with small-scale offsets behind the coronagraph masks, so relying on this pre-computed library may not be appropriate. We therefore demonstrate SGDs with this library and by computing PSFs on-the-fly with WebbPSF.\n",
    "\n",
    "This notebook assumes you've already look through the miri/nircam_photon_noise_and_contrast.ipynb notebooks, which demonstrate more basic functionality."
   ]
  },
  {
   "cell_type": "code",
   "execution_count": null,
   "metadata": {},
   "outputs": [],
   "source": [
    "import matplotlib.pyplot as plt\n",
    "%matplotlib inline\n",
    "\n",
    "import jwst_pancake as pancake\n",
    "\n",
    "from pandeia.engine.calc_utils import build_default_calc\n",
    "from pandeia.engine.perform_calculation import perform_calculation\n",
    "\n",
    "from copy import deepcopy\n",
    "import numpy as np\n",
    "\n",
    "import time"
   ]
  },
  {
   "cell_type": "markdown",
   "metadata": {},
   "source": [
    "# Scene Construction\n",
    "\n",
    "Here, we'll simply read in a template with predefined targets and planets."
   ]
  },
  {
   "cell_type": "code",
   "execution_count": null,
   "metadata": {},
   "outputs": [],
   "source": [
    "# Load the template\n",
    "config = build_default_calc('jwst', 'miri', 'coronagraphy')\n",
    "\n",
    "# Set up basic parameters\n",
    "target = deepcopy(config['scene'][0])\n",
    "target['spectrum']['sed'] = {'sed_type': 'phoenix', 'key': 'b3v'}\n",
    "# target['spectrum']['normalization'] = {'type': 'photsys', 'norm_fluxunit': 'abmag'}\n",
    "target['spectrum']['normalization'] = {'type': 'jwst', 'norm_fluxunit': 'abmag'}\n",
    "reference = config['strategy']['psf_subtraction_source']\n",
    "reference['spectrum']['sed'] = {'sed_type': 'phoenix', 'key': 'b1v'}\n",
    "# reference['spectrum']['normalization'] = {'type': 'photsys', 'norm_fluxunit': 'abmag'}\n",
    "reference['spectrum']['normalization'] = {'type': 'jwst', 'norm_fluxunit': 'abmag'}\n",
    "\n",
    "# Set up a basic planet\n",
    "planet_a = deepcopy(target)\n",
    "planet_a['spectrum']['sed'] = {'sed_type': 'blackbody'}\n",
    "planet_a['spectrum']['normalization'] = {'type': 'jwst', 'norm_fluxunit': 'abmag'}\n",
    "\n",
    "# Copy it to make a second planet\n",
    "planet_b = deepcopy(planet_a)\n",
    "\n",
    "# Set up Scene Parameters\n",
    "# target_bandpass = 'johnson,j'\n",
    "target_bandpass = 'miri,imaging,f560w'\n",
    "target_abmag = 12.0\n",
    "\n",
    "# reference_bandpass = 'johnson,j'\n",
    "reference_bandpass = 'miri,imaging,f560w'\n",
    "reference_abmag = 10.8\n",
    "\n",
    "planet_a_position = {'x_offset': 1.3, 'y_offset': 1.7}\n",
    "planet_a_bandpass = 'miri,imaging,f560w'\n",
    "planet_a_abmag = 19.5\n",
    "planet_a_temp = 900\n",
    "\n",
    "planet_b_position = {'x_offset': 2.1, 'y_offset': -2.4}\n",
    "planet_b_bandpass = 'miri,imaging,f560w'\n",
    "planet_b_abmag = 21.1\n",
    "planet_b_temp = 800\n",
    "\n",
    "# Set configuration to use scene parameters\n",
    "target['id'] = 1\n",
    "target['spectrum']['normalization']['bandpass'] = target_bandpass\n",
    "target['spectrum']['normalization']['norm_flux'] = target_abmag\n",
    "config['scene'] = [target]\n",
    "\n",
    "reference['spectrum']['normalization']['bandpass'] = reference_bandpass\n",
    "reference['spectrum']['normalization']['norm_flux'] = reference_abmag\n",
    "reference['id'] = 99\n",
    "\n",
    "planet_a['id'] = 2\n",
    "planet_a['spectrum']['sed']['temp'] = planet_a_temp\n",
    "planet_a['spectrum']['normalization']['bandpass'] = planet_a_bandpass\n",
    "planet_a['spectrum']['normalization']['norm_flux'] = planet_a_abmag\n",
    "planet_a['position'] = planet_a_position\n",
    "config['scene'].append(planet_a)\n",
    "\n",
    "planet_b['id'] = 3\n",
    "planet_b['spectrum']['sed']['temp'] = planet_b_temp\n",
    "planet_b['spectrum']['normalization']['bandpass'] = planet_b_bandpass\n",
    "planet_b['spectrum']['normalization']['norm_flux'] = planet_b_abmag\n",
    "planet_b['position'] = planet_b_position\n",
    "config['scene'].append(planet_b)\n",
    "\n",
    "# Add target acquisition error\n",
    "errx, erry = pancake.scene.get_ta_error()\n",
    "pancake.scene.offset_scene(config['scene'], errx, erry)\n",
    "\n",
    "# The same, but for reference\n",
    "errx_ref, erry_ref = pancake.scene.get_ta_error()\n",
    "pancake.scene.offset_scene([config['strategy']['psf_subtraction_source']], errx_ref, erry_ref)"
   ]
  },
  {
   "cell_type": "markdown",
   "metadata": {},
   "source": [
    "To simulate a small-grid dither (SGD), pass in a reference calculation file (after adding TA error) to the ```scene.create_SGD``` function. By default, this only supports a square 9-point grid with 2 mas error on the grid points, but this function can be easily reproduced for other SGD configurations."
   ]
  },
  {
   "cell_type": "code",
   "execution_count": null,
   "metadata": {},
   "outputs": [],
   "source": [
    "sgds = pancake.scene.create_SGD(ta_error=False, stepsize=20.e-3)\n",
    "\n",
    "sgd_configs = []\n",
    "for s in sgds:\n",
    "    current_config = deepcopy(config)\n",
    "    pancake.scene.offset_scene([current_config['strategy']['psf_subtraction_source']], *s)\n",
    "    sgd_configs.append(current_config)"
   ]
  },
  {
   "cell_type": "markdown",
   "metadata": {},
   "source": [
    "And now we'll plot the two scenes we've constructed"
   ]
  },
  {
   "cell_type": "code",
   "execution_count": null,
   "metadata": {},
   "outputs": [],
   "source": [
    "plt.figure(figsize=(15,5))\n",
    "plt.subplot(121,polar=True)\n",
    "pancake.scene.plot_scene(config['scene'],'Target Scene w/ Companion',newfig=False)\n",
    "ax = plt.gca()\n",
    "ax.set_rlim(0,5.)\n",
    "plt.subplot(122,polar=True)\n",
    "for s in sgd_configs:\n",
    "    pancake.scene.plot_scene([s['strategy']['psf_subtraction_source']],'SGD Points',newfig=False)\n",
    "ax = plt.gca()"
   ]
  },
  {
   "cell_type": "markdown",
   "metadata": {},
   "source": [
    "# On-the-fly PSFs\n",
    "\n",
    "To enable on-the-fly PSFs with WebbPSF, simply toggle ```engine.on_the_fly_PSFs``` to ```True``` and re-submit the calculations as before.\n",
    "\n",
    "NB: The number of PSFs generated is given by ```engine.wave_sampling``` * number of sources + ```engine.wave_sampling``` * SGD points. For this example, we're relying on WebbPSF for 280 calculations, which can take a long time. Subsequent calculations can be sped up by use of an [LRU cache](https://en.wikipedia.org/wiki/Cache_replacement_policies#Least_Recently_Used_.28LRU.29) (enabled by default), but this caching system is incompatible with multiprocessing, so ```engine.calculate_batch``` will not contribute to the cache, while ```engine.perform_calculation``` will."
   ]
  },
  {
   "cell_type": "code",
   "execution_count": null,
   "metadata": {},
   "outputs": [],
   "source": [
    "options = pancake.engine.options\n",
    "initial_options = options.current_options\n",
    "options.wave_sampling = 21\n",
    "options.on_the_fly_PSFs = True\n",
    "otf_options = options.current_options\n",
    "\n",
    "print(\"Calculating Target at {}\".format(time.ctime()))\n",
    "otf_targ_results = pancake.engine.calculate_target(config)\n",
    "otf_sgd_results = []\n",
    "for i, s in enumerate(sgd_configs):\n",
    "    print(\"Calculating SGD {} of {} at {}\".format(i+1, len(sgd_configs), time.ctime()))\n",
    "    otf_sgd_results.append(pancake.engine.calculate_reference(s))\n",
    "\n",
    "print(\"Done SGD\")\n",
    "options.current_options = initial_options"
   ]
  },
  {
   "cell_type": "code",
   "execution_count": null,
   "metadata": {},
   "outputs": [],
   "source": [
    "target_slope = otf_targ_results['2d']['detector']\n",
    "\n",
    "sgd_reg = []\n",
    "for r in otf_sgd_results:\n",
    "    slope = r['2d']['detector']\n",
    "    reg = pancake.analysis.register_to_target(slope,target_slope,rescale_reference=True)\n",
    "    sgd_reg.append(reg)\n",
    "sgd_reg = np.array(sgd_reg)\n",
    "\n",
    "centered_target = target_slope - np.nanmean(target_slope)\n",
    "artificialPSF = pancake.analysis.klip_projection(centered_target,sgd_reg)"
   ]
  },
  {
   "cell_type": "markdown",
   "metadata": {
    "collapsed": true
   },
   "source": [
    "After registering the SGD observations to the target image, treat the SGD results as a reference library for KLIP and generate an artificial PSF for reference-subtraction"
   ]
  },
  {
   "cell_type": "code",
   "execution_count": null,
   "metadata": {},
   "outputs": [],
   "source": [
    "sgd_sub = centered_target - artificialPSF\n",
    "\n",
    "plt.figure(figsize=(15,4))\n",
    "plt.subplot(131)\n",
    "plt.imshow(centered_target)\n",
    "plt.title('Target Slope Image')\n",
    "plt.colorbar().set_label('e$^{-}$/s')\n",
    "plt.subplot(132)\n",
    "plt.imshow(artificialPSF)\n",
    "plt.title('KLIP Artificial PSF')\n",
    "plt.colorbar().set_label('e$^{-}$/s')\n",
    "plt.subplot(133)\n",
    "plt.imshow(sgd_sub)\n",
    "plt.title('Artificial PSF Subtracted')\n",
    "plt.colorbar().set_label('e$^{-}$/s')"
   ]
  },
  {
   "cell_type": "markdown",
   "metadata": {},
   "source": [
    "# The Easy Way\n",
    "\n",
    "You can obtain the same result as above by using the ```calculate_subtracted``` convenience function:"
   ]
  },
  {
   "cell_type": "code",
   "execution_count": null,
   "metadata": {},
   "outputs": [],
   "source": [
    "sub_results = pancake.engine.calculate_subtracted(config, ta_error=True, sgd=True, stepsize=20.e-3)\n",
    "\n",
    "plt.figure(figsize=(15,4))\n",
    "plt.subplot(131)\n",
    "plt.imshow(sub_results['target'])\n",
    "plt.title('Target Slope Image')\n",
    "plt.colorbar().set_label('e$^{-}$/s')\n",
    "plt.subplot(132)\n",
    "plt.imshow(sub_results['psf'])\n",
    "plt.title('KLIP Artificial PSF')\n",
    "plt.colorbar().set_label('e$^{-}$/s')\n",
    "plt.subplot(133)\n",
    "plt.imshow(sub_results['subtracted'])\n",
    "plt.title('Artificial PSF Subtracted')\n",
    "plt.colorbar().set_label('e$^{-}$/s')"
   ]
  }
 ],
 "metadata": {
  "kernelspec": {
   "display_name": "Python (pancake)",
   "language": "python",
   "name": "pancake"
  },
  "language_info": {
   "codemirror_mode": {
    "name": "ipython",
    "version": 3
   },
   "file_extension": ".py",
   "mimetype": "text/x-python",
   "name": "python",
   "nbconvert_exporter": "python",
   "pygments_lexer": "ipython3",
   "version": "3.7.3"
  }
 },
 "nbformat": 4,
 "nbformat_minor": 2
}
