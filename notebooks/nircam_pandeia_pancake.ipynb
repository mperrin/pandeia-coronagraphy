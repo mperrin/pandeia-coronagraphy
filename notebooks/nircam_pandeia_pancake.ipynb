{
 "cells": [
  {
   "cell_type": "markdown",
   "metadata": {},
   "source": [
    "# Introduction\n",
    "\n",
    "This notebook demonstrates the use of PanCAKE with the NIRCam coronagraphs, and contrasts PanCAKE with default Pandeia coronagraphy calculations. In particular, it provides examples of:\n",
    "\n",
    "* Constructing a NIRCam scene in both Pandeia and PanCAKE\n",
    "* Importing a NIRCam scene built in Pandeia into PanCAKE\n",
    "* Engine calculations using Pandeia's precomputed PSF library, in both Pandeia and PanCAKE\n",
    "* Comparisons of Pandeia's precomputed PSF library with PanCAKE's on-the-fly PSF generation\n",
    "* Comparisons of on-the-fly PSF generation with varying numbers of wavelength bins"
   ]
  },
  {
   "cell_type": "code",
   "execution_count": null,
   "metadata": {},
   "outputs": [],
   "source": [
    "# Note that this is currently suppressing warnings that are associated with pandeia.\n",
    "# These are issues that the pandeia developers know about and are working on fixing.\n",
    "# They're being suppressed simply because they're not relevant to the point of this notebook.\n",
    "import warnings\n",
    "from astropy.utils.exceptions import AstropyDeprecationWarning\n",
    "warnings.simplefilter(action='ignore', category=FutureWarning)\n",
    "warnings.simplefilter(action='ignore', category=AstropyDeprecationWarning)\n",
    "\n",
    "import matplotlib.pyplot as plt\n",
    "%matplotlib inline\n",
    "\n",
    "import jwst_pancake as pancake\n",
    "\n",
    "from pandeia.engine.calc_utils import build_default_calc\n",
    "from pandeia.engine.perform_calculation import perform_calculation\n",
    "\n",
    "from copy import deepcopy\n",
    "import numpy as np\n",
    "import time"
   ]
  },
  {
   "cell_type": "markdown",
   "metadata": {},
   "source": [
    "# Constructing a Scene\n",
    "\n",
    "We'll start by defining the source and instrument properties for our desired observation. "
   ]
  },
  {
   "cell_type": "code",
   "execution_count": null,
   "metadata": {},
   "outputs": [],
   "source": [
    "target_mV = 10.\n",
    "ref_mV = 9.\n",
    "\n",
    "target_Sp = 'a5v'\n",
    "ref_Sp = 'a3v'\n",
    "\n",
    "planet_a_mag = 17.0\n",
    "planet_b_mag = 16.5\n",
    "\n",
    "subarray = 'sub640'\n",
    "filter_c = 'f210m'\n",
    "mask_c = 'mask210r'"
   ]
  },
  {
   "cell_type": "markdown",
   "metadata": {},
   "source": [
    "Now we'll load in a NIRCam template and configure the instrument for our observation.\n",
    "\n",
    "Now we'll create a NIRCam template from Pandeia and configure the instrument for our observation. (In this case, it's already configured for an F210M observation, but we'll demonstrate setting the calculation keys regardless.)"
   ]
  },
  {
   "cell_type": "code",
   "execution_count": null,
   "metadata": {},
   "outputs": [],
   "source": [
    "# Load the template\n",
    "config = build_default_calc('jwst', 'nircam', 'coronagraphy')\n",
    "\n",
    "# Set the coronagraph and filter\n",
    "config['configuration']['detector']['subarray'] = subarray\n",
    "config['configuration']['instrument']['aperture'] = mask_c\n",
    "config['configuration']['instrument']['filter'] = filter_c"
   ]
  },
  {
   "cell_type": "markdown",
   "metadata": {},
   "source": [
    "This template contains a scene with a single star. We'll set the star properties and then duplicate it to create a planetary companion."
   ]
  },
  {
   "cell_type": "code",
   "execution_count": null,
   "metadata": {},
   "outputs": [],
   "source": [
    "# Pull out the target (the first entry in the 'scene' list)\n",
    "targetstar = config['scene'][0]\n",
    "targetstar['spectrum']['normalization']['type'] = 'photsys'\n",
    "targetstar['spectrum']['normalization']['norm_flux'] = target_mV\n",
    "targetstar['spectrum']['normalization']['norm_fluxunit'] = 'abmag'\n",
    "targetstar['spectrum']['normalization']['bandpass'] = 'johnson,v'\n",
    "del targetstar['spectrum']['normalization']['norm_wave'] # not needed for bandpass\n",
    "del targetstar['spectrum']['normalization']['norm_waveunit'] # not needed for bandpass\n",
    "targetstar['spectrum']['sed']['key'] = target_Sp\n",
    "targetstar['id'] = 1 #each source must have a unique ID, starting at 1\n",
    "\n",
    "# Copy the target star and turn it into a planet\n",
    "planetA = deepcopy(targetstar)\n",
    "planetA['id'] = 2 #each source must have a unique ID, starting at 1\n",
    "\n",
    "# A different way to normalize source flux\n",
    "planetA['spectrum']['normalization']['bandpass'] = 'nircam,sw_imaging,f210m'\n",
    "planetA['spectrum']['normalization']['norm_flux'] = planet_a_mag\n",
    "planetA['spectrum']['normalization']['type'] = 'jwst'\n",
    "planetA['spectrum']['sed']['sed_type'] = 'blackbody'\n",
    "planetA['spectrum']['sed']['temp'] = 900.\n",
    "del planetA['spectrum']['sed']['key'] #unnecessary now\n",
    "\n",
    "# Source offset\n",
    "planetA['position']['x_offset'] = 0.406 #arcsec\n",
    "planetA['position']['y_offset'] = -1.263\n",
    "\n",
    "# Copy that planet and turn it into a second, slightly brighter planet\n",
    "planetB = deepcopy(planetA)\n",
    "planetB['id'] = 3\n",
    "planetB['position']['x_offset'] = -0.306 #arcsec\n",
    "planetB['position']['y_offset'] = -.53\n",
    "planetB['spectrum']['normalization']['norm_flux'] = planet_b_mag\n",
    "\n",
    "# Update calculation file with the new planet\n",
    "config['scene'].extend([planetA,planetB])"
   ]
  },
  {
   "cell_type": "markdown",
   "metadata": {},
   "source": [
    "Create the reference scene for PSF subtraction"
   ]
  },
  {
   "cell_type": "code",
   "execution_count": null,
   "metadata": {},
   "outputs": [],
   "source": [
    "# We adopt a brighter but spectrally-mismatched reference\n",
    "config['strategy']['psf_subtraction_source'] = deepcopy(targetstar)\n",
    "config['strategy']['psf_subtraction_source']['spectrum']['normalization']['norm_flux'] = ref_mV\n",
    "config['strategy']['psf_subtraction_source']['spectrum']['sed']['key'] = ref_Sp\n",
    "config['strategy']['psf_subtraction_source']['id'] = 4"
   ]
  },
  {
   "cell_type": "markdown",
   "metadata": {},
   "source": [
    "And now we'll plot the two scenes we've constructed"
   ]
  },
  {
   "cell_type": "code",
   "execution_count": null,
   "metadata": {},
   "outputs": [],
   "source": [
    "# The plot_scene convenience functions expect a scene to have a list of sources, whereas the PSF subtraction source\n",
    "# in a pandeia configuration dictionary is a single source, and not part of a list.\n",
    "reference = {}\n",
    "reference['scene'] = [config['strategy']['psf_subtraction_source']]\n",
    "\n",
    "plt.figure(figsize=(15,5))\n",
    "plt.subplot(121,polar=True)\n",
    "pancake.scene.plot_scene(config['scene'],'Target Scene w/ Companion',newfig=False)\n",
    "ax = plt.gca()\n",
    "ax.set_rlim(0,5.)\n",
    "plt.subplot(122,polar=True)\n",
    "pancake.scene.plot_scene(reference['scene'],'Reference Scene',newfig=False)\n",
    "ax = plt.gca()\n",
    "ax.set_rlim(0,5.)"
   ]
  },
  {
   "cell_type": "markdown",
   "metadata": {},
   "source": [
    "# Run the Pandeia Engine\n",
    "\n",
    "Now we pass our calculation files to the pandeia engine to create the slope images (and a number of other products)."
   ]
  },
  {
   "cell_type": "code",
   "execution_count": null,
   "metadata": {
    "scrolled": true
   },
   "outputs": [],
   "source": [
    "pandeia_result = perform_calculation(deepcopy(config))\n",
    "\n",
    "subtracted_slope = pandeia_result['2d']['detector']\n",
    "\n",
    "plt.figure(figsize=(10,4))\n",
    "plt.imshow(pandeia_result['2d']['detector'])\n",
    "plt.title('Pandeia Target - Reference')\n",
    "plt.colorbar().set_label('e$^{-}$/s')"
   ]
  },
  {
   "cell_type": "markdown",
   "metadata": {},
   "source": [
    "In order to run the same calculation via panCAKE, the convenience function ``engine.calculate_subtracted`` will generate similar results to Pandeia's optimally-subtracted calculation:"
   ]
  },
  {
   "cell_type": "code",
   "execution_count": null,
   "metadata": {},
   "outputs": [],
   "source": [
    "pancake_result = pancake.engine.calculate_subtracted(config)\n",
    "\n",
    "subtracted_slope = pancake_result['subtracted']\n",
    "\n",
    "plt.figure(figsize=(10,4))\n",
    "plt.imshow(subtracted_slope)\n",
    "plt.title('Target - Reference Counts')\n",
    "plt.colorbar().set_label('e$^{-}$/s')"
   ]
  },
  {
   "cell_type": "markdown",
   "metadata": {},
   "source": [
    "To demonstrate the difference between the two data reductions, the following plot shows the result of subtracting the panCAKE image from the pandeia image."
   ]
  },
  {
   "cell_type": "code",
   "execution_count": null,
   "metadata": {},
   "outputs": [],
   "source": [
    "difference_image = pandeia_result['2d']['detector'] - pancake_result['subtracted']\n",
    "\n",
    "plt.figure(figsize=(10,4))\n",
    "plt.imshow(difference_image)\n",
    "plt.title('Pandeia - PanCAKE')\n",
    "plt.colorbar().set_label('e$^{-}$/s')"
   ]
  },
  {
   "cell_type": "markdown",
   "metadata": {},
   "source": [
    "In this case, both results are quite close.\n",
    "\n",
    "### Wave Sampling\n",
    "\n",
    "An aside on performance and accuracy: The ```engine.options.wave_sampling``` parameter provides a hook into the wavelength sampling of the 3D (x,y,wavelength) cube. By default, Pandeia adopts some large value for the wavelength sampling (typically 150+); however, this is the primary time sink in the calculation. Setting ```engine.options.wave_sampling = 11``` while developing your simulation provides dramatic time savings while getting within ~5% of the \"true\" value. By ```engine.options.wave_sampling = 41```, one can expect agreement to within roughly 1%.\n",
    "\n",
    "### On-the-fly PSF Calculations\n",
    "\n",
    "The Pandeia engine relies on a library of precomputed PSFs that are sparsely sampled across the coronagraphic field of view. For the MIRI coronagraphs, this sparse sampling will often be insufficient for accurately capturing PSF variations arising from small offsets.\n",
    "\n",
    "Pandeia-Coronagraphy gives the option (```engine.options.on_the_fly_PSFs```) to circumvent the use of this precomputed library and force recomputing each PSF on the fly in WebbPSF. We'll toggle it to True, at the cost of some speed.\n",
    "\n",
    "The example below shoes a calculation with 11 data points (using on-the-fly PSFs), and one with 51."
   ]
  },
  {
   "cell_type": "code",
   "execution_count": null,
   "metadata": {},
   "outputs": [],
   "source": [
    "# Store the existing option values\n",
    "pancake_options = pancake.engine.options\n",
    "pancake_options.save_options()\n",
    "\n",
    "# Turn on on-the-fly PSFs\n",
    "pancake_options.on_the_fly_PSFs = True\n",
    "\n",
    "# 11-bin PSF calculation, including required time\n",
    "start_11 = time.time()\n",
    "pancake_options.wave_sampling = 11\n",
    "pancake_result_11 = pancake.engine.calculate_subtracted(config)\n",
    "subtracted_slope_11 = pancake_result_11['subtracted']\n",
    "print(\"11-point On-the-fly result completed in {:.1f} seconds\".format(time.time() - start_11))\n",
    "\n",
    "# 51-bin PSF calculation, including required time\n",
    "start_51 = time.time()\n",
    "pancake_options.wave_sampling = 51\n",
    "pancake_result_51 = pancake.engine.calculate_subtracted(config)\n",
    "subtracted_slope_51 = pancake_result_51['subtracted']\n",
    "print(\"51-point On-the-fly result completed in {:.1f} seconds\".format(time.time() - start_51))\n",
    "\n",
    "# Restore initial option values\n",
    "pancake_options.restore_options()\n",
    "\n",
    "# Plot output\n",
    "plt.figure(figsize=(10,4))\n",
    "plt.subplot(121)\n",
    "plt.imshow(subtracted_slope_11)\n",
    "plt.title('11 Wavelength Bins')\n",
    "plt.colorbar().set_label('e$^{-}$/s')\n",
    "plt.subplot(122)\n",
    "plt.imshow(subtracted_slope_51)\n",
    "plt.title('51 Wavelength Bins')\n",
    "plt.colorbar().set_label('e$^{-}$/s')"
   ]
  },
  {
   "cell_type": "markdown",
   "metadata": {},
   "source": [
    "Once again, we can compare these results both to one another and to the pandeia result above. In the plots below, the \n",
    "leftmost plot compares the 11- and 51-bin results, whilst the rightmost plot compares the 11-bin result to the pandeia result."
   ]
  },
  {
   "cell_type": "code",
   "execution_count": null,
   "metadata": {},
   "outputs": [],
   "source": [
    "sub_11_51 = pancake_result_11['subtracted'] - pancake_result_51['subtracted']\n",
    "sub_11_pandeia = pandeia_result['2d']['detector'] - pancake_result_11['subtracted']\n",
    "\n",
    "plt.figure(figsize=(10,4))\n",
    "plt.subplot(121)\n",
    "plt.imshow(sub_11_51)\n",
    "plt.title('11-bin - 51-bin')\n",
    "plt.colorbar().set_label('e${-}$/s')\n",
    "plt.subplot(122)\n",
    "plt.imshow(sub_11_pandeia)\n",
    "plt.title('pandeia - 11-bin')\n",
    "plt.colorbar().set_label('e${-}$/s')"
   ]
  },
  {
   "cell_type": "markdown",
   "metadata": {},
   "source": [
    "In both cases, the results are roughly comparable.\n",
    "\n",
    "The capabilities of on-the-fly PSF calculations are most apparent when target acquisition (TA) errors are included in the calculation. Although the ```engine.calculate_subtracted``` function offers the abilities to compute TA errors itself, in this case we will add the TA errors directly to the observed scene so that the same errors will be shown in both pandeia and pancake."
   ]
  },
  {
   "cell_type": "code",
   "execution_count": null,
   "metadata": {},
   "outputs": [],
   "source": [
    "config_with_errors = deepcopy(config)\n",
    "target_x_err, target_y_err = pancake.scene.get_ta_error()\n",
    "print(\"Applying error ({}, {}) mas to target\".format(target_x_err*1000, target_y_err*1000))\n",
    "pancake.scene.offset_scene(config_with_errors['scene'], target_x_err, target_y_err)\n",
    "reference_x_err, reference_y_err = pancake.scene.get_ta_error()\n",
    "print(\"Applying error ({}, {}) mas to reference\".format(reference_x_err*1000, reference_y_err*1000))\n",
    "pancake.scene.offset_scene([config_with_errors['strategy']['psf_subtraction_source']], reference_x_err, reference_y_err)\n",
    "pandeia_offsets = pancake.utilities.determine_pandeia_offset(config_with_errors)\n",
    "print(\"Scene PSF: {}, Reference PSF: {}\".format(pandeia_offsets['scene'], pandeia_offsets['reference']))"
   ]
  },
  {
   "cell_type": "code",
   "execution_count": null,
   "metadata": {},
   "outputs": [],
   "source": [
    "pandeia_result_with_errors = perform_calculation(deepcopy(config_with_errors))\n",
    "\n",
    "# Store the existing option values\n",
    "pancake_options.save_options()\n",
    "\n",
    "pancake_options.on_the_fly_PSFs = True\n",
    "pancake_options.wave_sampling = 11\n",
    "pancake_result_with_errors = pancake.engine.calculate_subtracted(config_with_errors)\n",
    "\n",
    "# Restore initial option values\n",
    "pancake_options.restore_options()\n",
    "\n",
    "pandeia_slope = pandeia_result_with_errors['2d']['detector']\n",
    "pancake_slope = pancake_result_with_errors['subtracted']\n",
    "\n",
    "plt.figure(figsize=(10,4))\n",
    "plt.subplot(121)\n",
    "plt.imshow(pandeia_slope)\n",
    "plt.title('Pandeia Target Image')\n",
    "plt.colorbar().set_label('e$^{-}$/s')\n",
    "plt.subplot(122)\n",
    "plt.imshow(pancake_slope)\n",
    "plt.title('PanCAKE Target Image')\n",
    "plt.colorbar().set_label('e$^{-}$/s')"
   ]
  },
  {
   "cell_type": "markdown",
   "metadata": {},
   "source": [
    "In this case, the above figures show that pancake's ```calculate_subtracted``` convenience function manages to compensate for the PSF changes with target offset, whereas pandeia does not perform quite as well."
   ]
  }
 ],
 "metadata": {
  "kernelspec": {
   "display_name": "Python (pancake)",
   "language": "python",
   "name": "pancake"
  },
  "language_info": {
   "codemirror_mode": {
    "name": "ipython",
    "version": 3
   },
   "file_extension": ".py",
   "mimetype": "text/x-python",
   "name": "python",
   "nbconvert_exporter": "python",
   "pygments_lexer": "ipython3",
   "version": "3.7.3"
  }
 },
 "nbformat": 4,
 "nbformat_minor": 2
}
